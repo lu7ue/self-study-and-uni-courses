{
 "cells": [
  {
   "cell_type": "markdown",
   "id": "222cb33c-8b95-455d-b51c-7a63725933b3",
   "metadata": {},
   "source": [
    "# IPython 和 Jupter Notebook\n",
    "IPython 是一个增强版的 Python 交互式解释器，提供更强大的功能。Jupyter Notebook 是一个基于 Web 的 交互式编程环境，它支持 Python 以及多种其他语言。Jupyter 运行 Python 代码时，实际上是调用了 IPython 内核。Jupyter Notebook 是一个界面，IPython 就是它在后台运行 Python 代码的引擎。\n",
    "\n",
    "## 1. 单元格（cell）\n",
    "### 1.1 单元格模式\n",
    "- 命令模式：按下 `Esc` 进入命令模式（蓝色边框），可对整个单元格进行删除、新增、复制、粘贴、撤销等操作\n",
    "- 编辑模式：按下 `Enter` 进入编辑模式（绿色边框），可在内部书写文本或代码\n",
    "\n",
    "### 1.2 命令模式下可使用的快捷键\n",
    "- `A`：在当前单元格上方插入新单元格\n",
    "- `B`：在当前单元格下方插入新单元格\n",
    "- `D（双击）`：删除当前单元格\n",
    "- `C`：复制当前单元格\n",
    "- `V`：粘贴当前单元格\n",
    "- `Z`：撤销上一次的单元格操作\n",
    "- `M`：将单元格转换为 Markdown 文本\n",
    "- `Y`：将单元格转换为 代码\n",
    "\n",
    "### 1.3 运行单元格\n",
    "- `Shift + Enter`：运行当前单元格，并跳到下一个单元格（如果没有就新建一个）\n",
    "- `Ctrl + Enter`：运行当前单元格，但不跳转到下一个单元格\n",
    "- `Option + Enter`：运行当前单元格，并在下方新建一个单元格\n",
    "\n",
    "## 2. 常用函数\n",
    "`help()` 是一个内置函数，用于查看对象（函数、类、模块等）的文档。\n",
    "```python\n",
    "help(print)  # 查看 print() 函数的文档\n",
    "help(list.append)  # 查看 list 的 append 方法\n",
    "```\n",
    "除了 `help()` 以外，IPython 和 Jupyter Notebook 还支持使用 `?` 查看帮助，以及使用 `??` 查看源码。\n",
    "```python\n",
    "print?  # 等价于 help(print)\n",
    "print??  # 如果可能，会显示 print() 的源码\n",
    "```\n",
    "另外，还可以使用 Tab 自动补全。输入 `math.` 然后按 Tab，它会列出 `math模块` 下的所有函数；使用 `Shift + Tab` 可以查看代码提示（悬浮窗）。\n",
    "\n",
    "# 其他\n",
    "- 在使用jupter notebook时，不要关闭terminal后台进程"
   ]
  }
 ],
 "metadata": {
  "kernelspec": {
   "display_name": "base",
   "language": "python",
   "name": "python3"
  },
  "language_info": {
   "codemirror_mode": {
    "name": "ipython",
    "version": 3
   },
   "file_extension": ".py",
   "mimetype": "text/x-python",
   "name": "python",
   "nbconvert_exporter": "python",
   "pygments_lexer": "ipython3",
   "version": "3.12.7"
  }
 },
 "nbformat": 4,
 "nbformat_minor": 5
}
