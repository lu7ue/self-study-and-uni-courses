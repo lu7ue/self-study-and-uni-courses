{
 "cells": [
  {
   "cell_type": "code",
   "execution_count": null,
   "metadata": {},
   "outputs": [],
   "source": [
    "import pandas as pd\n",
    "import matplotlib.pyplot as plt\n",
    "import seaborn as sns"
   ]
  },
  {
   "cell_type": "code",
   "execution_count": null,
   "metadata": {},
   "outputs": [],
   "source": [
    "df = pd.read_csv('../notes/self-study/dataset/set13_it2_merged.csv',sep=',')"
   ]
  },
  {
   "cell_type": "code",
   "execution_count": null,
   "metadata": {},
   "outputs": [
    {
     "data": {
      "text/html": [
       "<div>\n",
       "<style scoped>\n",
       "    .dataframe tbody tr th:only-of-type {\n",
       "        vertical-align: middle;\n",
       "    }\n",
       "\n",
       "    .dataframe tbody tr th {\n",
       "        vertical-align: top;\n",
       "    }\n",
       "\n",
       "    .dataframe thead th {\n",
       "        text-align: right;\n",
       "    }\n",
       "</style>\n",
       "<table border=\"1\" class=\"dataframe\">\n",
       "  <thead>\n",
       "    <tr style=\"text-align: right;\">\n",
       "      <th></th>\n",
       "      <th>ID</th>\n",
       "      <th>TradeValue</th>\n",
       "      <th>RealmType</th>\n",
       "      <th>Enclave</th>\n",
       "      <th>LivingQuarters</th>\n",
       "      <th>ParcelSize</th>\n",
       "      <th>ParcelSizeUnit</th>\n",
       "      <th>StructuralIntegrity</th>\n",
       "      <th>ExteriorCharm</th>\n",
       "    </tr>\n",
       "  </thead>\n",
       "  <tbody>\n",
       "    <tr>\n",
       "      <th>0</th>\n",
       "      <td>0</td>\n",
       "      <td>147000.0</td>\n",
       "      <td>Meadowlands</td>\n",
       "      <td>brightforge</td>\n",
       "      <td>766.0</td>\n",
       "      <td>9069.0</td>\n",
       "      <td>sqft</td>\n",
       "      <td>6</td>\n",
       "      <td>Common</td>\n",
       "    </tr>\n",
       "    <tr>\n",
       "      <th>1</th>\n",
       "      <td>1</td>\n",
       "      <td>98000.0</td>\n",
       "      <td>GnomeBurough</td>\n",
       "      <td>petalbridge</td>\n",
       "      <td>1033.0</td>\n",
       "      <td>4571.0</td>\n",
       "      <td>sqft</td>\n",
       "      <td>5</td>\n",
       "      <td>Common</td>\n",
       "    </tr>\n",
       "    <tr>\n",
       "      <th>2</th>\n",
       "      <td>2</td>\n",
       "      <td>325624.0</td>\n",
       "      <td>Meadowlands</td>\n",
       "      <td>silverglen</td>\n",
       "      <td>1662.0</td>\n",
       "      <td>10562.0</td>\n",
       "      <td>sqft</td>\n",
       "      <td>5</td>\n",
       "      <td>Gleaming</td>\n",
       "    </tr>\n",
       "  </tbody>\n",
       "</table>\n",
       "</div>"
      ],
      "text/plain": [
       "   ID  TradeValue     RealmType      Enclave  LivingQuarters  ParcelSize  \\\n",
       "0   0    147000.0   Meadowlands  brightforge           766.0      9069.0   \n",
       "1   1     98000.0  GnomeBurough  petalbridge          1033.0      4571.0   \n",
       "2   2    325624.0   Meadowlands   silverglen          1662.0     10562.0   \n",
       "\n",
       "  ParcelSizeUnit  StructuralIntegrity ExteriorCharm  \n",
       "0           sqft                    6        Common  \n",
       "1           sqft                    5        Common  \n",
       "2           sqft                    5      Gleaming  "
      ]
     },
     "execution_count": 4,
     "metadata": {},
     "output_type": "execute_result"
    }
   ],
   "source": [
    "# 使用rename修改列名，inplace=True直接修改df，不返回新对象。replace是用于替换数据值的方法。\n",
    "df.rename(columns={'DI': 'ID'}, inplace=True)\n",
    "\n",
    "df.head(3)"
   ]
  },
  {
   "cell_type": "code",
   "execution_count": null,
   "metadata": {},
   "outputs": [
    {
     "data": {
      "text/plain": [
       "21"
      ]
     },
     "execution_count": 5,
     "metadata": {},
     "output_type": "execute_result"
    }
   ],
   "source": [
    "# 检查df中是否有重复行，True表示该行是重复的，False表示不重复。即第一条重复行标记为False，后续相同的行标记为True。duplicates返回一个布尔Series，长度与df行数相同。\n",
    "duplicates = df.duplicated()\n",
    "# 计算duplicates中True的数量，也就是重复行的总数。\n",
    "duplicates.sum()"
   ]
  },
  {
   "cell_type": "code",
   "execution_count": null,
   "metadata": {},
   "outputs": [
    {
     "data": {
      "text/html": [
       "<div>\n",
       "<style scoped>\n",
       "    .dataframe tbody tr th:only-of-type {\n",
       "        vertical-align: middle;\n",
       "    }\n",
       "\n",
       "    .dataframe tbody tr th {\n",
       "        vertical-align: top;\n",
       "    }\n",
       "\n",
       "    .dataframe thead th {\n",
       "        text-align: right;\n",
       "    }\n",
       "</style>\n",
       "<table border=\"1\" class=\"dataframe\">\n",
       "  <thead>\n",
       "    <tr style=\"text-align: right;\">\n",
       "      <th></th>\n",
       "      <th>ID</th>\n",
       "      <th>TradeValue</th>\n",
       "      <th>RealmType</th>\n",
       "      <th>Enclave</th>\n",
       "      <th>LivingQuarters</th>\n",
       "      <th>ParcelSize</th>\n",
       "      <th>ParcelSizeUnit</th>\n",
       "      <th>StructuralIntegrity</th>\n",
       "      <th>ExteriorCharm</th>\n",
       "    </tr>\n",
       "  </thead>\n",
       "  <tbody>\n",
       "  </tbody>\n",
       "</table>\n",
       "</div>"
      ],
      "text/plain": [
       "Empty DataFrame\n",
       "Columns: [ID, TradeValue, RealmType, Enclave, LivingQuarters, ParcelSize, ParcelSizeUnit, StructuralIntegrity, ExteriorCharm]\n",
       "Index: []"
      ]
     },
     "execution_count": 6,
     "metadata": {},
     "output_type": "execute_result"
    }
   ],
   "source": [
    "# 删除df中的重复行，并将结果赋值给df。它会删除所有完全相同的行，保留第一次出现的行。\n",
    "df = df.drop_duplicates()\n",
    "# 使用duplicated检查df中是否有重复行，再用df[]筛选df的行，只返回True对应的行。\n",
    "# 可以想象duplicated是给每行贴个标签（重复=是，非重复=否）。df[...]就像筛选器，只挑出“是”的行。\n",
    "df[df.duplicated()]"
   ]
  },
  {
   "cell_type": "code",
   "execution_count": 7,
   "metadata": {},
   "outputs": [
    {
     "name": "stdout",
     "output_type": "stream",
     "text": [
      "df columns: Index(['ID', 'TradeValue', 'RealmType', 'Enclave', 'LivingQuarters',\n",
      "       'ParcelSize', 'ParcelSizeUnit', 'StructuralIntegrity', 'ExteriorCharm'],\n",
      "      dtype='object')\n"
     ]
    }
   ],
   "source": [
    "# 查看数据集里现在有哪些列\n",
    "print(\"df columns:\", df.columns)"
   ]
  },
  {
   "cell_type": "code",
   "execution_count": 8,
   "metadata": {},
   "outputs": [],
   "source": [
    "# 定义基础变量\n",
    "income = 30000 # 年收入3万美元\n",
    "annual_interest_rate = 0.04 # 年利率4%（0.04）\n",
    "loan_term_years = 30 # 贷款期限30年\n",
    "downpayment_percentage = 0.20 # 首付比例20%（0.20）\n",
    "monthly_income = income / 12 # 月收入 = 30000 / 12 = 2500美元\n",
    "total_payments = loan_term_years * 12 # 总还款次数 = 30 × 12 = 360个月\n",
    "monthly_interest_rate = annual_interest_rate / 12 # 月利率 = 0.04 / 12 = 0.003333（约0.3333%）"
   ]
  },
  {
   "cell_type": "code",
   "execution_count": 9,
   "metadata": {},
   "outputs": [],
   "source": [
    "# 为df添加三列：首付 Downpayment、贷款金额 LoanAmount 和 月供 MonthlyPayment\n",
    "df['Downpayment'] = df['TradeValue'] * downpayment_percentage\n",
    "df['LoanAmount'] = df['TradeValue'] - df['Downpayment']\n",
    "df['MonthlyPayment'] = df['LoanAmount'] * (monthly_interest_rate * (1 + monthly_interest_rate) ** total_payments) / \\\n",
    "                             ((1 + monthly_interest_rate) ** total_payments - 1)"
   ]
  },
  {
   "cell_type": "code",
   "execution_count": 10,
   "metadata": {},
   "outputs": [],
   "source": [
    "# 判断可负担性：添加AffordableDwelling列，标记房子是否在预算内（1=可负担，0=不可负担）。使用astype将布尔值转为整数（1或0）。\n",
    "df['AffordableDwelling'] = (df['MonthlyPayment'] <= (0.30 * monthly_income)).astype(int)"
   ]
  },
  {
   "cell_type": "code",
   "execution_count": 11,
   "metadata": {},
   "outputs": [
    {
     "data": {
      "text/html": [
       "<div>\n",
       "<style scoped>\n",
       "    .dataframe tbody tr th:only-of-type {\n",
       "        vertical-align: middle;\n",
       "    }\n",
       "\n",
       "    .dataframe tbody tr th {\n",
       "        vertical-align: top;\n",
       "    }\n",
       "\n",
       "    .dataframe thead th {\n",
       "        text-align: right;\n",
       "    }\n",
       "</style>\n",
       "<table border=\"1\" class=\"dataframe\">\n",
       "  <thead>\n",
       "    <tr style=\"text-align: right;\">\n",
       "      <th></th>\n",
       "      <th>ID</th>\n",
       "      <th>TradeValue</th>\n",
       "      <th>RealmType</th>\n",
       "      <th>Enclave</th>\n",
       "      <th>LivingQuarters</th>\n",
       "      <th>ParcelSize</th>\n",
       "      <th>ParcelSizeUnit</th>\n",
       "      <th>StructuralIntegrity</th>\n",
       "      <th>ExteriorCharm</th>\n",
       "      <th>Downpayment</th>\n",
       "      <th>LoanAmount</th>\n",
       "      <th>MonthlyPayment</th>\n",
       "      <th>AffordableDwelling</th>\n",
       "    </tr>\n",
       "  </thead>\n",
       "  <tbody>\n",
       "    <tr>\n",
       "      <th>0</th>\n",
       "      <td>0</td>\n",
       "      <td>147000.0</td>\n",
       "      <td>Meadowlands</td>\n",
       "      <td>brightforge</td>\n",
       "      <td>766.0</td>\n",
       "      <td>9069.0</td>\n",
       "      <td>sqft</td>\n",
       "      <td>6</td>\n",
       "      <td>Common</td>\n",
       "      <td>29400.0</td>\n",
       "      <td>117600.0</td>\n",
       "      <td>561.440387</td>\n",
       "      <td>1</td>\n",
       "    </tr>\n",
       "    <tr>\n",
       "      <th>1</th>\n",
       "      <td>1</td>\n",
       "      <td>98000.0</td>\n",
       "      <td>GnomeBurough</td>\n",
       "      <td>petalbridge</td>\n",
       "      <td>1033.0</td>\n",
       "      <td>4571.0</td>\n",
       "      <td>sqft</td>\n",
       "      <td>5</td>\n",
       "      <td>Common</td>\n",
       "      <td>19600.0</td>\n",
       "      <td>78400.0</td>\n",
       "      <td>374.293592</td>\n",
       "      <td>1</td>\n",
       "    </tr>\n",
       "    <tr>\n",
       "      <th>2</th>\n",
       "      <td>2</td>\n",
       "      <td>325624.0</td>\n",
       "      <td>Meadowlands</td>\n",
       "      <td>silverglen</td>\n",
       "      <td>1662.0</td>\n",
       "      <td>10562.0</td>\n",
       "      <td>sqft</td>\n",
       "      <td>5</td>\n",
       "      <td>Gleaming</td>\n",
       "      <td>65124.8</td>\n",
       "      <td>260499.2</td>\n",
       "      <td>1243.663025</td>\n",
       "      <td>0</td>\n",
       "    </tr>\n",
       "  </tbody>\n",
       "</table>\n",
       "</div>"
      ],
      "text/plain": [
       "   ID  TradeValue     RealmType      Enclave  LivingQuarters  ParcelSize  \\\n",
       "0   0    147000.0   Meadowlands  brightforge           766.0      9069.0   \n",
       "1   1     98000.0  GnomeBurough  petalbridge          1033.0      4571.0   \n",
       "2   2    325624.0   Meadowlands   silverglen          1662.0     10562.0   \n",
       "\n",
       "  ParcelSizeUnit  StructuralIntegrity ExteriorCharm  Downpayment  LoanAmount  \\\n",
       "0           sqft                    6        Common      29400.0    117600.0   \n",
       "1           sqft                    5        Common      19600.0     78400.0   \n",
       "2           sqft                    5      Gleaming      65124.8    260499.2   \n",
       "\n",
       "   MonthlyPayment  AffordableDwelling  \n",
       "0      561.440387                   1  \n",
       "1      374.293592                   1  \n",
       "2     1243.663025                   0  "
      ]
     },
     "execution_count": 11,
     "metadata": {},
     "output_type": "execute_result"
    }
   ],
   "source": [
    "df.head(3)"
   ]
  },
  {
   "cell_type": "code",
   "execution_count": null,
   "metadata": {},
   "outputs": [
    {
     "name": "stdout",
     "output_type": "stream",
     "text": [
      "不可负担 (0): 673\n",
      "可负担 (1): 1529\n"
     ]
    }
   ],
   "source": [
    "# 展示df数据集中房屋的可负担性分布（AffordableDwelling列中1和0的数量）。\n",
    "\n",
    "# 先确认一下1和0各有多少，以免画图时弄错顺序。\n",
    "# 因为value_counts的结果会按降序排列，大的数字排前面（包括它的索引），而画图时设定x刻度值，使用的索引顺序是[0,1]。\n",
    "# 如果可负担的量是30，不可负担是10，此时红色条显示的实际上是可负担的数量，而不是不可负担的数量。\n",
    "\n",
    "# 查看1和0的数量\n",
    "counts = df['AffordableDwelling'].value_counts()\n",
    "print(f\"不可负担 (0): {counts.get(0, 0)}\") # 获取具体值，get(key, default)防止某值不存在（比如全是1时，0的数量返回0）\n",
    "print(f\"可负担 (1): {counts.get(1, 0)}\")"
   ]
  },
  {
   "cell_type": "code",
   "execution_count": null,
   "metadata": {},
   "outputs": [
    {
     "data": {
      "image/png": "[encoded data removed]",
      "text/plain": [
       "<Figure size 640x480 with 1 Axes>"
      ]
     },
     "metadata": {},
     "output_type": "display_data"
    }
   ],
   "source": [
    "# 此时可以确定，如果直接使用value_counts的结果画图，颜色和是否能负担的数量是相反的。所以在画图前，需要先将索引顺序调成正常的[0,1]。\n",
    "ordered_counts = counts.reindex([0, 1], fill_value=0) # fill_value=0：如果新索引[0, 1]中有counts里不存在的索引（比如2），就用0填充。\n",
    "# 使用正确的顺序，开始画图\n",
    "ordered_counts.plot(kind='bar', color=['red', 'green'])\n",
    "plt.xticks(ticks=[0,1], labels=[\"Not Affordable\", \"Affordable\"], rotation=0) # ticks=[0,1]对应条形的位置（第一个条是0，第二个条是1）\n",
    "plt.xlabel(\"Affordability\")\n",
    "plt.ylabel(\"Count\")\n",
    "plt.title(\"Affordable vs Non-Affordable Dwellings\")\n",
    "plt.show()"
   ]
  },
  {
   "cell_type": "code",
   "execution_count": 15,
   "metadata": {},
   "outputs": [
    {
     "data": {
      "image/png": "[encoded data removed]",
      "text/plain": [
       "<Figure size 640x480 with 1 Axes>"
      ]
     },
     "metadata": {},
     "output_type": "display_data"
    },
    {
     "name": "stdout",
     "output_type": "stream",
     "text": [
      "月供最小值: 48.84531370966152\n",
      "月供最大值: 2883.588384611341\n"
     ]
    }
   ],
   "source": [
    "# 展示每栋房子的月供（美元），看看大多数房子的月供是多少\n",
    "plt.hist(df['MonthlyPayment'], bins=30, color='blue', edgecolor='black')\n",
    "plt.xlabel(\"Monthly Payment ($)\")\n",
    "plt.ylabel(\"Number of Houses\")\n",
    "plt.title(\"Distribution of Monthly Mortgage Payments\")\n",
    "plt.show()\n",
    "\n",
    "# 检查范围\n",
    "print(\"月供最小值:\", df['MonthlyPayment'].min())\n",
    "print(\"月供最大值:\", df['MonthlyPayment'].max())"
   ]
  },
  {
   "cell_type": "code",
   "execution_count": null,
   "metadata": {},
   "outputs": [
    {
     "data": {
      "image/png": "[encoded data removed]",
      "text/plain": [
       "<Figure size 1000x500 with 1 Axes>"
      ]
     },
     "metadata": {},
     "output_type": "display_data"
    }
   ],
   "source": [
    "# 计算df数据集中每个Enclave（小区）的房屋的可负担性比例（AffordableDwelling的平均值），并按比例从小到大排序。\n",
    "\n",
    "# df_merged.groupby('Enclave'):按Enclave列分组。把df分成多个子集，每个子集对应一个小区（比如brightforge, petalbridge等）\n",
    "# ['AffordableDwelling']：从每个分组（小区）中提取 AffordableDwelling 这一列，只关注每个小区的可负担性数据（0或1）。比如brightforge: [1, 0, 1, 0]，petalbridge: [1, 1, 1, 0]。\n",
    "# mean：算出平均值，即可负担房屋的比例，比如brightforge: [1, 0, 1, 0] 平均值 = (1 + 0 + 1 + 0) / 4 = 0.5（50% 可负担）。\n",
    "# sort_values：让结果按可负担比例升序（从小到大）排列，方便观察哪个小区可负担性最低，哪个最高。\n",
    "affordable_by_enclave = df.groupby('Enclave')['AffordableDwelling'].mean().sort_values()\n",
    "\n",
    "plt.figure(figsize=(10,5))\n",
    "affordable_by_enclave.plot(kind='bar', color='purple')\n",
    "plt.ylabel(\"Percentage Affordable\", fontsize=12)\n",
    "plt.xlabel(\"Enclave\", fontsize=12)\n",
    "plt.xticks(ha='right', rotation=45, fontsize=10)\n",
    "plt.title(\"Percentage of Affordable Dwellings by Enclave\")\n",
    "plt.show()"
   ]
  },
  {
   "cell_type": "code",
   "execution_count": null,
   "metadata": {},
   "outputs": [
    {
     "data": {
      "text/html": [
       "<div>\n",
       "<style scoped>\n",
       "    .dataframe tbody tr th:only-of-type {\n",
       "        vertical-align: middle;\n",
       "    }\n",
       "\n",
       "    .dataframe tbody tr th {\n",
       "        vertical-align: top;\n",
       "    }\n",
       "\n",
       "    .dataframe thead th {\n",
       "        text-align: right;\n",
       "    }\n",
       "</style>\n",
       "<table border=\"1\" class=\"dataframe\">\n",
       "  <thead>\n",
       "    <tr style=\"text-align: right;\">\n",
       "      <th></th>\n",
       "      <th>TradeValue</th>\n",
       "      <th>Downpayment</th>\n",
       "      <th>LoanAmount</th>\n",
       "      <th>MonthlyPayment</th>\n",
       "    </tr>\n",
       "  </thead>\n",
       "  <tbody>\n",
       "    <tr>\n",
       "      <th>count</th>\n",
       "      <td>2202.000000</td>\n",
       "      <td>2202.000000</td>\n",
       "      <td>2202.000000</td>\n",
       "      <td>2202.000000</td>\n",
       "    </tr>\n",
       "    <tr>\n",
       "      <th>mean</th>\n",
       "      <td>181567.430064</td>\n",
       "      <td>36313.486013</td>\n",
       "      <td>145253.944051</td>\n",
       "      <td>693.464546</td>\n",
       "    </tr>\n",
       "    <tr>\n",
       "      <th>std</th>\n",
       "      <td>81523.525077</td>\n",
       "      <td>16304.705015</td>\n",
       "      <td>65218.820062</td>\n",
       "      <td>311.364622</td>\n",
       "    </tr>\n",
       "    <tr>\n",
       "      <th>min</th>\n",
       "      <td>12789.000000</td>\n",
       "      <td>2557.800000</td>\n",
       "      <td>10231.200000</td>\n",
       "      <td>48.845314</td>\n",
       "    </tr>\n",
       "    <tr>\n",
       "      <th>25%</th>\n",
       "      <td>129862.500000</td>\n",
       "      <td>25972.500000</td>\n",
       "      <td>103890.000000</td>\n",
       "      <td>495.986750</td>\n",
       "    </tr>\n",
       "    <tr>\n",
       "      <th>50%</th>\n",
       "      <td>160000.000000</td>\n",
       "      <td>32000.000000</td>\n",
       "      <td>128000.000000</td>\n",
       "      <td>611.091578</td>\n",
       "    </tr>\n",
       "    <tr>\n",
       "      <th>75%</th>\n",
       "      <td>213000.000000</td>\n",
       "      <td>42600.000000</td>\n",
       "      <td>170400.000000</td>\n",
       "      <td>813.515663</td>\n",
       "    </tr>\n",
       "    <tr>\n",
       "      <th>max</th>\n",
       "      <td>755000.000000</td>\n",
       "      <td>151000.000000</td>\n",
       "      <td>604000.000000</td>\n",
       "      <td>2883.588385</td>\n",
       "    </tr>\n",
       "  </tbody>\n",
       "</table>\n",
       "</div>"
      ],
      "text/plain": [
       "          TradeValue    Downpayment     LoanAmount  MonthlyPayment\n",
       "count    2202.000000    2202.000000    2202.000000     2202.000000\n",
       "mean   181567.430064   36313.486013  145253.944051      693.464546\n",
       "std     81523.525077   16304.705015   65218.820062      311.364622\n",
       "min     12789.000000    2557.800000   10231.200000       48.845314\n",
       "25%    129862.500000   25972.500000  103890.000000      495.986750\n",
       "50%    160000.000000   32000.000000  128000.000000      611.091578\n",
       "75%    213000.000000   42600.000000  170400.000000      813.515663\n",
       "max    755000.000000  151000.000000  604000.000000     2883.588385"
      ]
     },
     "execution_count": 17,
     "metadata": {},
     "output_type": "execute_result"
    }
   ],
   "source": [
    "# 快速掌握这四列的分布和范围，为建模提供直观认识。\n",
    "# TradeValue 均值18万，范围1万到75万，说明房价差异大。count如果不是2202，说明有缺失值（NaN），需要处理。查看最小值，如果 LoanAmount 或 MonthlyPayment 是负数，可能计算出错。\n",
    "df[['TradeValue', 'Downpayment', 'LoanAmount', 'MonthlyPayment']].describe()"
   ]
  },
  {
   "cell_type": "markdown",
   "metadata": {},
   "source": [
    "接下来，进行机器学习基准模型的构建和评估，目标是预测 AffordableDwelling（是否可负担，0或1）。<br>\n",
    "包含数据探索、特征选择、数据拆分，最后用最简单的预测方法（众数预测）作为基准。"
   ]
  },
  {
   "cell_type": "code",
   "execution_count": 31,
   "metadata": {},
   "outputs": [],
   "source": [
    "from sklearn.model_selection import train_test_split\n",
    "from sklearn.metrics import accuracy_score, precision_score, recall_score"
   ]
  },
  {
   "cell_type": "code",
   "execution_count": null,
   "metadata": {},
   "outputs": [
    {
     "name": "stderr",
     "output_type": "stream",
     "text": [
      "/var/folders/6m/nmdc67354c9f77107p22bnd00000gn/T/ipykernel_53573/2538413731.py:5: FutureWarning: The default of observed=False is deprecated and will be changed to True in a future version of pandas. Pass observed=False to retain current behavior or observed=True to adopt the future default and silence this warning.\n",
      "  df.groupby(pd.qcut(df['LivingQuarters'], q=20))['AffordableDwelling'].mean()\n"
     ]
    },
    {
     "data": {
      "text/plain": [
       "LivingQuarters\n",
       "(255.999, 659.15]    1.000000\n",
       "(659.15, 710.1]      1.000000\n",
       "(710.1, 773.3]       1.000000\n",
       "(773.3, 824.0]       0.991379\n",
       "(824.0, 866.0]       1.000000\n",
       "(866.0, 924.6]       1.000000\n",
       "(924.6, 967.7]       0.909091\n",
       "(967.7, 1022.4]      0.863636\n",
       "(1022.4, 1063.45]    0.818182\n",
       "(1063.45, 1113.0]    0.855856\n",
       "(1113.0, 1149.0]     0.745455\n",
       "(1149.0, 1199.0]     0.633929\n",
       "(1199.0, 1249.65]    0.570093\n",
       "(1249.65, 1292.0]    0.660870\n",
       "(1292.0, 1338.0]     0.509259\n",
       "(1338.0, 1408.6]     0.429907\n",
       "(1408.6, 1509.0]     0.342342\n",
       "(1509.0, 1638.7]     0.266055\n",
       "(1638.7, 1886.95]    0.190909\n",
       "(1886.95, 4339.0]    0.090090\n",
       "Name: AffordableDwelling, dtype: float64"
      ]
     },
     "execution_count": 20,
     "metadata": {},
     "output_type": "execute_result"
    }
   ],
   "source": [
    "# 计算 LivingQuarters（居住面积）按20分位数分组后的可负担比例。看居住面积与可负担性是否相关（面积越大，可能越贵，可负担比例降低）。\n",
    "\n",
    "# pd.qcut(df['LivingQuarters'], q=20): 把 LivingQuarters 分成20个等频区间（每个区间含约2202/20=110行）。\n",
    "# .groupby(...)['AffordableDwelling'].mean(): 对每个区间计算 AffordableDwelling 的平均值（即1的占比）。\n",
    "df.groupby(pd.qcut(df['LivingQuarters'], q=20))['AffordableDwelling'].mean()\n",
    "\n",
    "# 小于824的几乎100%可负担。大于1408.6的比例低于40%，1498以上更低（<30%）。\n",
    "# 趋势: 面积越大，可负担率越低。\n"
   ]
  },
  {
   "cell_type": "code",
   "execution_count": null,
   "metadata": {},
   "outputs": [
    {
     "name": "stderr",
     "output_type": "stream",
     "text": [
      "/var/folders/6m/nmdc67354c9f77107p22bnd00000gn/T/ipykernel_53573/2607158186.py:2: FutureWarning: The default of observed=False is deprecated and will be changed to True in a future version of pandas. Pass observed=False to retain current behavior or observed=True to adopt the future default and silence this warning.\n",
      "  df.groupby(pd.qcut(df['ParcelSize'], q=20))['AffordableDwelling'].mean()\n"
     ]
    },
    {
     "data": {
      "text/plain": [
       "ParcelSize\n",
       "(175.58599999999998, 2651.7]    0.954955\n",
       "(2651.7, 4426.0]                0.758929\n",
       "(4426.0, 6000.0]                0.874074\n",
       "(6000.0, 6877.2]                0.879518\n",
       "(6877.2, 7291.5]                0.918182\n",
       "(7291.5, 7838.6]                0.818182\n",
       "(7838.6, 8248.7]                0.763636\n",
       "(8248.7, 8640.0]                0.840708\n",
       "(8640.0, 9000.0]                0.730435\n",
       "(9000.0, 9375.0]                0.707547\n",
       "(9375.0, 9735.1]                0.811321\n",
       "(9735.1, 10134.0]               0.702703\n",
       "(10134.0, 10493.35]             0.642202\n",
       "(10493.35, 10984.0]             0.663636\n",
       "(10984.0, 11500.0]              0.513274\n",
       "(11500.0, 12200.8]              0.588785\n",
       "(12200.8, 13072.0]              0.468468\n",
       "(13072.0, 14302.7]              0.385321\n",
       "(14302.7, 17139.0]              0.400000\n",
       "(17139.0, 164660.0]             0.468468\n",
       "Name: AffordableDwelling, dtype: float64"
      ]
     },
     "execution_count": 21,
     "metadata": {},
     "output_type": "execute_result"
    }
   ],
   "source": [
    "# 计算 ParcelSize（地块大小）按20分位数分组后的可负担比例。地块越大，可负担率下降，但不完全线性。\n",
    "df.groupby(pd.qcut(df['ParcelSize'], q=20))['AffordableDwelling'].mean()\n",
    "\n",
    "# 小于6000的普遍高于80%。大于14302.7的比例低于40%，但17139以上略回升。"
   ]
  },
  {
   "cell_type": "code",
   "execution_count": null,
   "metadata": {},
   "outputs": [
    {
     "data": {
      "text/plain": [
       "StructuralIntegrity\n",
       "1    1.000000\n",
       "2    0.857143\n",
       "3    0.945946\n",
       "4    0.961538\n",
       "5    0.565495\n",
       "6    0.881313\n",
       "7    0.825784\n",
       "8    0.879630\n",
       "9    0.617647\n",
       "Name: AffordableDwelling, dtype: float64"
      ]
     },
     "execution_count": 22,
     "metadata": {},
     "output_type": "execute_result"
    }
   ],
   "source": [
    "# 计算每个 StructuralIntegrity（结构完整性）水平的可负担比例。\n",
    "df.groupby('StructuralIntegrity')['AffordableDwelling'].mean()\n",
    "\n",
    "# 1-4 高（>85%），5和9较低（56-61%），6-8较高（>80%）。无明显线性关系，5和9是低点。"
   ]
  },
  {
   "cell_type": "code",
   "execution_count": null,
   "metadata": {},
   "outputs": [
    {
     "data": {
      "text/plain": [
       "ExteriorCharm\n",
       "Common        0.910437\n",
       "Enchanting    0.056818\n",
       "Gleaming      0.364993\n",
       "Modest        0.961538\n",
       "Name: AffordableDwelling, dtype: float64"
      ]
     },
     "execution_count": 23,
     "metadata": {},
     "output_type": "execute_result"
    }
   ],
   "source": [
    "# 计算每个 ExteriorCharm（外观魅力）类别的可负担比例。\n",
    "df.groupby('ExteriorCharm')['AffordableDwelling'].mean() # 按 ExteriorCharm（类别变量，如“Common”, “Elegant”）分组。\n",
    "\n",
    "# Common (91%) 和 Modest (96%) 高。Enchanting (5.7%) 和 Gleaming (36.5%) 低。特定类别（Enchanting, Gleaming）显著不可负担。"
   ]
  },
  {
   "cell_type": "code",
   "execution_count": 24,
   "metadata": {},
   "outputs": [],
   "source": [
    "# 建模准备: 明确预测目标，机器学习任务是分类（预测0或1）。为训练和测试集准备目标数据。\n",
    "\n",
    "# 定义目标变量（target），是 AffordableDwelling 列。\n",
    "target = df['AffordableDwelling']\n",
    "# 选择4个特征，组成特征集 features。根据前面分组分析，这4个特征可能与 AffordableDwelling 强相关（比例变化明显）。\n",
    "features = df[['Enclave', 'LivingQuarters', 'ParcelSize', 'ExteriorCharm']]\n",
    "\n",
    "# 将数据拆分为训练集和测试集。\n",
    "feature_train, feature_test, target_train, target_test = train_test_split(features, target, test_size=0.2, random_state=42)"
   ]
  },
  {
   "cell_type": "code",
   "execution_count": 28,
   "metadata": {},
   "outputs": [
    {
     "name": "stdout",
     "output_type": "stream",
     "text": [
      "目标训练集中出现最多的值是: 1\n"
     ]
    }
   ],
   "source": [
    "# 计算训练集 target_train 的众数（出现最多的值）。[0]: 提取第一个众数值。\n",
    "most_common_value = target_train.mode()[0]\n",
    "\n",
    "print(f\"目标训练集中出现最多的值是: {most_common_value}\")"
   ]
  },
  {
   "cell_type": "code",
   "execution_count": 29,
   "metadata": {},
   "outputs": [],
   "source": [
    "# 创建基准预测。\n",
    "pred_train = [most_common_value] * len(target_train)\n",
    "pred_test = [most_common_value] * len(target_test)"
   ]
  },
  {
   "cell_type": "code",
   "execution_count": 32,
   "metadata": {},
   "outputs": [
    {
     "name": "stdout",
     "output_type": "stream",
     "text": [
      "目标训练集的准确率: 0.7013060760931289\n",
      "目标测试集的准确率: 0.6666666666666666\n"
     ]
    }
   ],
   "source": [
    "# 比较预测值和真实值，计算正确比例。\n",
    "print('目标训练集的准确率:', accuracy_score(pred_train, target_train))\n",
    "print('目标测试集的准确率:', accuracy_score(pred_test, target_test))"
   ]
  },
  {
   "cell_type": "markdown",
   "metadata": {},
   "source": [
    "接下来，构建一个基于规则的分类模型，用来预测 AffordableDwelling（是否可负担，0或1），并对模型性能进行评估。<br>\n",
    "它比之前的基准模型（全猜众数）更复杂，利用了之前从数据探索中发现的规律（比如某些 Enclave 或 LivingQuarters 的可负担比例低）。<br>\n",
    "之后，通过多种指标（准确率、精确率、召回率、特异性）来评估模型效果。"
   ]
  },
  {
   "cell_type": "code",
   "execution_count": 33,
   "metadata": {},
   "outputs": [],
   "source": [
    "# 定义一个函数，根据每行数据的特征值判断房子是否可负担，返回0（不可负担）或1（可负担）。\n",
    "# 默认预测为1（可负担，因为数据中1占多数，1529/2202≈69%）。通过4个条件调整预测为0（不可负担）。\n",
    "\n",
    "def classify_affordability(row):\n",
    "    prediction = 1  # 默认可负担\n",
    "\n",
    "    # 条件1：从之前的统计中能看到，Enclave这几个小区的可负担率低于30%\n",
    "    if row['Enclave'] in ['glimmerwood', 'moonglade', 'silverglen', 'riverbend']:\n",
    "        prediction = 0\n",
    "\n",
    "    # 条件2：LivingQuarters > 1509 可负担率低于30%\n",
    "    if row['LivingQuarters'] > 1509:\n",
    "        prediction = 0\n",
    "\n",
    "    # 条件3：ParcelSize > 14302.7 可负担率低于40%\n",
    "    if row['ParcelSize'] > 14302.7:\n",
    "        prediction = 0\n",
    "\n",
    "    # 条件4：ExteriorCharm 是 Enchanting 或 Gleaming 可负担率低于40%\n",
    "    if row['ExteriorCharm'] in ['Enchanting', 'Gleaming']:\n",
    "        prediction = 0\n",
    "\n",
    "    return prediction"
   ]
  },
  {
   "cell_type": "code",
   "execution_count": 43,
   "metadata": {},
   "outputs": [
    {
     "name": "stdout",
     "output_type": "stream",
     "text": [
      "1982    0\n",
      "489     0\n",
      "1201    1\n",
      "761     1\n",
      "1698    0\n",
      "dtype: int64\n",
      "1982    1\n",
      "489     0\n",
      "1201    1\n",
      "761     1\n",
      "1698    1\n",
      "Name: AffordableDwelling, dtype: int64\n"
     ]
    }
   ],
   "source": [
    "# 对训练集和测试集应用 classify_affordability 函数，生成预测。axis=1 表示按行操作。\n",
    "predictions_train = feature_train.apply(classify_affordability, axis=1)\n",
    "predictions_test = feature_test.apply(classify_affordability, axis=1)\n",
    "\n",
    "# 检查前几行的预测\n",
    "print(predictions_train.head())\n",
    "# 然后跟真实值比较一下\n",
    "print(target_train.head())"
   ]
  },
  {
   "cell_type": "code",
   "execution_count": null,
   "metadata": {},
   "outputs": [
    {
     "name": "stdout",
     "output_type": "stream",
     "text": [
      "目标训练集的准确性： 0.8001135718341851\n",
      "目标测试集的准确性： 0.800453514739229\n"
     ]
    }
   ],
   "source": [
    "# 评估准确性（accuracy）: 整体预测正确率。\n",
    "# 预测正确的比例 = (正确预测的房子数) / (总房子数)。\n",
    "# 对比之前的众数基准模型（≈67%），准确性可以看看规则是否更好。\n",
    "print('目标训练集的准确性：', accuracy_score(predictions_train, target_train))\n",
    "print('目标测试集的准确性：', accuracy_score(predictions_test, target_test))\n",
    "\n",
    "# 这个模型有80%的房子预测正确。对比基准模型，之前全猜1是70.13%（训练）和66.67%（测试），提升了约10%，说明规则有效。"
   ]
  },
  {
   "cell_type": "code",
   "execution_count": null,
   "metadata": {},
   "outputs": [
    {
     "name": "stdout",
     "output_type": "stream",
     "text": [
      "目标训练集的精确性： 0.7392712550607288\n",
      "目标测试集的精确性： 0.7414965986394558\n"
     ]
    }
   ],
   "source": [
    "# 评估精确率（precision）：预测1中实际1的比例。\n",
    "# 预测为1中实际为1的比例 = TP / (TP + FP)。TP：预测1且正确；FP：预测1但实际0。\n",
    "# 精确率关注预测可负担（1）的可靠性。\n",
    "print('目标训练集的精确性：', precision_score(predictions_train, target_train))\n",
    "print('目标测试集的精确性：', precision_score(predictions_test, target_test))\n",
    "\n",
    "# 这个模型预测为1（可负担）中有74%是真1。在预测可负担时有26%是错的，精确率不算特别高，但有改进空间。"
   ]
  },
  {
   "cell_type": "code",
   "execution_count": null,
   "metadata": {},
   "outputs": [
    {
     "name": "stdout",
     "output_type": "stream",
     "text": [
      "目标训练集的召回率： 0.968186638388123\n",
      "目标测试集的召回率： 0.9478260869565217\n"
     ]
    }
   ],
   "source": [
    "# 评估召回率（recall）：实际1中预测1的比例。\n",
    "# 实际为1中预测为1的比例 = TP / (TP + FN)。FN：实际1但预测0。\n",
    "# 检查覆盖率，看规则能找回多少真实可负担房子。高召回可能低精确，反之亦然。\n",
    "print('目标训练集的召回率：', recall_score(predictions_train, target_train))\n",
    "print('目标测试集的召回率：', recall_score(predictions_test, target_test))\n",
    "\n",
    "# 这个模型的实际为1中，95-97%被预测为1。漏掉的真1很少，说明对可负担房子的覆盖很好。"
   ]
  },
  {
   "cell_type": "code",
   "execution_count": null,
   "metadata": {},
   "outputs": [
    {
     "name": "stdout",
     "output_type": "stream",
     "text": [
      "特异性: 0.9430\n"
     ]
    }
   ],
   "source": [
    "from sklearn.metrics import confusion_matrix\n",
    "\n",
    "# 计算混淆矩阵\n",
    "# tp: 实际1预测1（正确可负担）。tn: 实际0预测0（正确不可负担）。\n",
    "# fp: 实际0预测1（错标可负担）。fn: 实际1预测0（错标不可负担）。\n",
    "tn, fp, fn, tp = confusion_matrix(target_train, predictions_train).ravel() # .ravel(): 把2x2矩阵展开为一维。\n",
    "\n",
    "# 计算特异性：实际0中预测0的比例。\n",
    "# 实际不可负担中预测正确的比例 = TN / (TN + FP)\n",
    "specificity = tn / (tn + fp)\n",
    "print(f\"特异性: {specificity:.4f}\")\n",
    "\n",
    "# 这个模型的实际为0（不可负担）中，94.3%预测正确。说明对不可负担的房子预测很准。"
   ]
  }
 ],
 "metadata": {
  "kernelspec": {
   "display_name": "base",
   "language": "python",
   "name": "python3"
  },
  "language_info": {
   "codemirror_mode": {
    "name": "ipython",
    "version": 3
   },
   "file_extension": ".py",
   "mimetype": "text/x-python",
   "name": "python",
   "nbconvert_exporter": "python",
   "pygments_lexer": "ipython3",
   "version": "3.12.7"
  }
 },
 "nbformat": 4,
 "nbformat_minor": 2
}
